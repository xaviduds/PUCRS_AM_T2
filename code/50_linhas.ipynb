{
 "cells": [
  {
   "cell_type": "code",
   "execution_count": 1,
   "metadata": {},
   "outputs": [],
   "source": [
    "import cv2\n",
    "from matplotlib import pyplot as plt\n",
    "import imutils"
   ]
  },
  {
   "cell_type": "code",
   "execution_count": 2,
   "metadata": {},
   "outputs": [],
   "source": [
    "# read image and take first channel only\n",
    "bottle_3_channel = cv2.imread(\"./../data/D001_papel_atras/20230526_095122.jpg\")\n",
    "bottle_gray = cv2.split(bottle_3_channel)[0]\n",
    "resized = cv2.resize(bottle_gray, (500, 500), interpolation=cv2.INTER_AREA)\n",
    "\n",
    "cv2.imshow(\"Bottle Gray\", resized)\n",
    "cv2.waitKey(0)"
   ]
  },
  {
   "cell_type": "code",
   "execution_count": null,
   "metadata": {},
   "outputs": [],
   "source": [
    "# blur image\n",
    "bottle_gray = cv2.GaussianBlur(bottle_gray, (7, 7), 0)\n",
    "cv2.imshow(\"Bottle Gray Smoothed 7 x 7\", bottle_gray)\n",
    "cv2.waitKey(0)"
   ]
  },
  {
   "cell_type": "code",
   "execution_count": null,
   "metadata": {},
   "outputs": [],
   "source": [
    "# draw histogram\n",
    "plt.hist(bottle_gray.ravel(), 256,[0, 256]); plt.show()"
   ]
  },
  {
   "cell_type": "code",
   "execution_count": null,
   "metadata": {},
   "outputs": [],
   "source": [
    "# manual threshold\n",
    "(T, bottle_threshold) = cv2.threshold(bottle_gray, 27.5, 255, cv2.THRESH_BINARY_INV)\n",
    "cv2.imshow(\"Bottle Gray Threshold 27.5\", bottle_threshold)\n",
    "cv2.waitKey(0)"
   ]
  },
  {
   "cell_type": "code",
   "execution_count": null,
   "metadata": {},
   "outputs": [],
   "source": [
    "# apply opening operation\n",
    "kernel = cv2.getStructuringElement(cv2.MORPH_RECT, (5, 5))\n",
    "bottle_open = cv2.morphologyEx(bottle_threshold, cv2.MORPH_OPEN, kernel)\n",
    "cv2.imshow(\"Bottle Open 5 x 5\", bottle_open)\n",
    "cv2.waitKey(0)"
   ]
  },
  {
   "cell_type": "code",
   "execution_count": null,
   "metadata": {},
   "outputs": [],
   "source": [
    "# find all contours\n",
    "contours = cv2.findContours(bottle_open.copy(), cv2.RETR_EXTERNAL, cv2.CHAIN_APPROX_SIMPLE)\n",
    "contours = imutils.grab_contours(contours)\n",
    "bottle_clone = bottle_3_channel.copy()\n",
    "cv2.drawContours(bottle_clone, contours, -1, (255, 0, 0), 2)\n",
    "cv2.imshow(\"All Contours\", bottle_clone)\n",
    "cv2.waitKey(0)"
   ]
  },
  {
   "cell_type": "code",
   "execution_count": null,
   "metadata": {},
   "outputs": [],
   "source": [
    "# sort contours by area\n",
    "areas = [cv2.contourArea(contour) for contour in contours]\n",
    "(contours, areas) = zip(*sorted(zip(contours, areas), key=lambda a:a[1]))\n",
    "# print contour with largest area\n",
    "bottle_clone = bottle_3_channel.copy()\n",
    "cv2.drawContours(bottle_clone, [contours[-1]], -1, (255, 0, 0), 2)\n",
    "cv2.imshow(\"Largest contour\", bottle_clone)\n",
    "cv2.waitKey(0)"
   ]
  },
  {
   "cell_type": "code",
   "execution_count": null,
   "metadata": {},
   "outputs": [],
   "source": [
    "# draw bounding box, calculate aspect and display decision\n",
    "bottle_clone = bottle_3_channel.copy()\n",
    "(x, y, w, h) = cv2.boundingRect(contours[-1])\n",
    "aspectRatio = w / float(h)\n",
    "if aspectRatio < 0.4:\n",
    "    cv2.rectangle(bottle_clone, (x, y), (x + w, y + h), (0, 255, 0), 2)\n",
    "    cv2.putText(bottle_clone, \"Full\", (x + 10, y + 20), cv2.FONT_HERSHEY_PLAIN, 1, (0, 255, 0), 2)\n",
    "else:\n",
    "    cv2.rectangle(bottle_clone, (x, y), (x + w, y + h), (0, 0, 255), 2)\n",
    "    cv2.putText(bottle_clone, \"Low\", (x + 10, y + 20), cv2.FONT_HERSHEY_PLAIN, 1, (0, 0, 255), 2)\n",
    "cv2.imshow(\"Decision\", bottle_clone)\n",
    "cv2.waitKey(0)"
   ]
  }
 ],
 "metadata": {
  "kernelspec": {
   "display_name": "machinelearning",
   "language": "python",
   "name": "python3"
  },
  "language_info": {
   "codemirror_mode": {
    "name": "ipython",
    "version": 3
   },
   "file_extension": ".py",
   "mimetype": "text/x-python",
   "name": "python",
   "nbconvert_exporter": "python",
   "pygments_lexer": "ipython3",
   "version": "3.11.3"
  },
  "orig_nbformat": 4
 },
 "nbformat": 4,
 "nbformat_minor": 2
}
